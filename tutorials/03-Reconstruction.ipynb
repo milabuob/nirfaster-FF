{
 "cells": [
  {
   "cell_type": "markdown",
   "id": "1f921672-9113-4a52-b0e3-58d7a784413f",
   "metadata": {},
   "source": [
    "# 03-Reconstruction\n",
    "\n",
    "We have so far learned how to generate the forward data and calculate the Jacobian. In this tutorial, you will learn two things that naturally extrapolates from past tutorials: how to simulate a blob in media, and how to perform reconstruction.\n",
    "\n",
    "Please be noted, that the reconstruction part itself is not the focus of our NIRFASTer package, and designing the reconstruction algorithms is a complex topic that is far beyond the scope of this tutorial. The goal of this short tutorial is simply to give you a basic idea of the fundamental principles of DOT reconstruction. If you are interested in performing DOT reconstruction in human brain, it is recommended to take a look at some other packages that are dedicated to this purpose, e.g. [NeuroDOT](https://github.com/WUSTL-ORL/NeuroDOT_py). You may also want to have a look at [this paper](https://doi.org/10.1063/1.5086809).\n",
    "\n",
    "Consider the linearized problem:\n",
    "$$\n",
    "\\mathbf{y}=\\mathbf{Ax}+\\mathbf{\\epsilon}\n",
    "$$\n",
    "where $\\mathbf{y}$ is the measurement (e.g. log intensity change), $\\mathbf{A}$ is the Jacobian matrix, $\\mathbf{x}$ is the \"brain activity\" (e.g. $\\mu_a$ change in the brain), and $\\mathbf{\\epsilon}$ is the measurement noise. The goal of DOT reconstruction is to estimate $\\mathbf{x}$ given $\\mathbf{y}$, and you may immediately recognize that this is nothing but a linear regression problem. The most widely-used method in the DOT community is called Tikhonov regularization (aka ridge regression), which solves the following problem,\n",
    "$$\n",
    "\\mathbf{\\hat{x}}=\\arg\\max_\\mathbf{x}||\\mathbf{y}-\\mathbf{Ax}||^2+||\\Gamma\\mathbf{x}||^2\n",
    "$$\n",
    "where $\\Gamma$ is the regularizer, which can either be a scalar of a matrix. If you are a Bayesian statistician, you may also notice that this is the maximum a posteriori (MAP) estimation of $\\mathbf{x}$ when assuming that $cov(\\epsilon)\\propto\\mathbf{I}$ and $cov(\\mathbf{x})\\propto\\mathbf{\\Gamma}^T\\mathbf{\\Gamma}$ ($\\mathbf{\\Gamma}=\\Gamma\\mathbf{I}$ if $\\Gamma$ is scalar).\n",
    "\n",
    "For brevity, we will only give an example using the 2D standard mesh. All other mesh types can be done in a very similar fashion, and it is left for the readers to explore."
   ]
  },
  {
   "cell_type": "code",
   "execution_count": 1,
   "id": "acbae650-1a5a-40bc-a204-2eb1863f5861",
   "metadata": {},
   "outputs": [],
   "source": [
    "import sys\n",
    "sys.path.insert(1, '../')\n",
    "import nirfasterff as ff # ff is short for fast and furious\n",
    "import numpy as np\n",
    "import matplotlib.pyplot as plt"
   ]
  },
  {
   "cell_type": "code",
   "execution_count": 2,
   "id": "bf949271-53c1-4a48-bf04-f4f7377d4e0d",
   "metadata": {},
   "outputs": [
    {
     "name": "stdout",
     "output_type": "stream",
     "text": [
      "Fixed sources\n",
      "Sources integration functions loaded\n",
      "Fixed detectors\n",
      "Detectors integration functions loaded\n",
      "Calculating direct field...\n",
      "Calculating adjoint field...\n",
      "Integrating...\n"
     ]
    }
   ],
   "source": [
    "# load mesh\n",
    "mesh = ff.base.stndmesh()\n",
    "mesh.from_file('../meshes/standard/circle2000_86_stnd')\n",
    "# define the grid\n",
    "xgrid = np.arange(-45., 45, 2)\n",
    "ygrid = np.arange(-45., 45, 2)\n",
    "mesh.gen_intmat(xgrid, ygrid)\n",
    "# calculate the CW Jacobian for log amplitude\n",
    "J = mesh.jacobian()[0]"
   ]
  },
  {
   "cell_type": "markdown",
   "id": "ec57f8e2-238f-4e77-a790-9b4ee5c1c4fc",
   "metadata": {},
   "source": [
    "Above codes are excatly the same as the first two cells of the previous tutorial, and we now already have the Jacobian matrix. Now let's add an anomaly, and calculated the log amplitude change."
   ]
  },
  {
   "cell_type": "code",
   "execution_count": 18,
   "id": "994691c0-4176-435f-bca7-8b748df9265a",
   "metadata": {},
   "outputs": [],
   "source": [
    "mesh2 = ff.base.stndmesh()\n",
    "mesh2.from_copy(mesh)\n",
    "# add anomaly: a 1cm-radius disk centered at (15,15)\n",
    "center = np.array([15., 15])\n",
    "idx = np.nonzero(np.linalg.norm(mesh.nodes - center, axis=1)<10)[0] # indices of the nodes within the disk\n",
    "# give it a 10% mua increase\n",
    "mesh2.change_prop(idx, [mesh.mua[0]*1.1, mesh.mus[0], mesh.ri[0]])\n",
    "# calculate data\n",
    "data1 = mesh.femdata(0)[0]\n",
    "data2 = mesh2.femdata(0)[0]\n",
    "# now the optical density change\n",
    "dOD = np.log(data2.amplitude) - np.log(data1.amplitude)\n",
    "# add some noise: iid gaussian with std being 5% of the max\n",
    "dOD += np.random.randn(dOD.size)*0.05*dOD.max()"
   ]
  },
  {
   "cell_type": "markdown",
   "id": "91ee0a69-3fb2-430e-98fe-474dc0fa51a3",
   "metadata": {},
   "source": [
    "Now we can do the reconstruction. Conveniently, NIRFASTer provides a simple Tikhonov regularization function to do exactly that. Here we stick with something simple: a scalar regularizer. In reality, you will need to adjust the regularizer according to your data. This can be done either empirically, or using methods e.g. [L-curve](https://www.sintef.no/globalassets/project/evitameeting/2005/lcurve.pdf) and [ReML](https://doi.org/10.1364/boe.1.001084). The general rule of thumb is, the larger the value, the smoother the results will be, but you loose the details; the smaller the value, the better resolution you get, but it can overfit to noise. This suggests that you need a larger regularizer for noisy data, and a smaller one for clean data."
   ]
  },
  {
   "cell_type": "code",
   "execution_count": 21,
   "id": "3e9ae564-5594-449b-970f-7afd8fc587a9",
   "metadata": {},
   "outputs": [
    {
     "data": {
      "text/plain": [
       "<Figure size 640x480 with 0 Axes>"
      ]
     },
     "metadata": {},
     "output_type": "display_data"
    },
    {
     "data": {
      "image/png": "[encoded data removed]",
      "text/plain": [
       "<Figure size 640x480 with 2 Axes>"
      ]
     },
     "metadata": {},
     "output_type": "display_data"
    }
   ],
   "source": [
    "# reconstruction\n",
    "dmua_recon = ff.inverse.tikhonov(J, 0.1, dOD)\n",
    "# have a look\n",
    "dmua_truth = np.reshape(mesh.vol.mesh2grid @ (mesh2.mua-mesh.mua), (45,45), order='F')\n",
    "\n",
    "plt.set_cmap('hot')\n",
    "fig, (ax1,ax2) = plt.subplots(1,2)\n",
    "ax1.imshow(dmua_truth, origin='lower')\n",
    "ax1.set_title('ground truth')\n",
    "\n",
    "ax2.imshow(dmua_recon.reshape((45,45), order='F'), origin='lower')\n",
    "ax2.set_title('reconstruction')\n",
    "plt.show()"
   ]
  },
  {
   "cell_type": "markdown",
   "id": "ee7f4340-981f-4b16-b80f-8db3f2e0e0f1",
   "metadata": {},
   "source": [
    "Please be noted that this example is, as you may have gathered, highly simplified in many ways. For example, the noise added may not fully resemble what it should look like in realistic data, and you may need to change that.\n",
    "\n",
    "The Tikhonov function can also handle non-scalar regularizers. The curious reader is highly encouraged to read the documentation and experiment with different regularizers."
   ]
  },
  {
   "cell_type": "code",
   "execution_count": null,
   "id": "831075f7-dd8d-45d7-b55f-9035590ea7db",
   "metadata": {},
   "outputs": [],
   "source": []
  }
 ],
 "metadata": {
  "kernelspec": {
   "display_name": "Python 3 (ipykernel)",
   "language": "python",
   "name": "python3"
  },
  "language_info": {
   "codemirror_mode": {
    "name": "ipython",
    "version": 3
   },
   "file_extension": ".py",
   "mimetype": "text/x-python",
   "name": "python",
   "nbconvert_exporter": "python",
   "pygments_lexer": "ipython3",
   "version": "3.11.9"
  }
 },
 "nbformat": 4,
 "nbformat_minor": 5
}
